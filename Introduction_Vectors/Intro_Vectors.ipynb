{
 "cells": [
  {
   "cell_type": "markdown",
   "id": "8b862fba-f26b-4cb9-bb0d-ba879ec5a9af",
   "metadata": {},
   "source": [
    "Intro_Vectors Assignment\n",
    "\n",
    "Lara R. Jakosalem\n",
    "\n",
    "1. Let u = (1,-2,4) and v = (3,5,1) w = (2,1,-3) find:\n",
    "   \n",
    "   a. 3u - 2v\n",
    "   \n",
    "   [3(1),3(-2),3(4)] + [-2(3),-2(5),-2(1)]\n",
    "\n",
    "   [3,-6,12] + [-6,-10,-2]\n",
    "\n",
    "   [3-6,-6+(-10),12-2] = (-3,-16,10)\n",
    "\n",
    "   b. 5u + 3v - 4w\n",
    "\n",
    "   [5(1),5(-2),5(4)] + [3(3),3(5),3(1)] + [-4(2),-4(1),-4(-3)]\n",
    "\n",
    "   [5,-10,20] + [9,15,3] + [-8,-4,12]\n",
    "\n",
    "   [5+9+(-8),(-10)+15+(-4),20+3+12] = (6,1,35)\n",
    "\n",
    "   c.<br>\n",
    "   $\\textbf{u} \\cdotp \\textbf{v}$<br>\n",
    "    $u \\cdotp v = u_1(v_1) + u_2(v_2) + u_3(v_3) = 1(3) - 2(5) + 4(1) = 3-10+4 = -3$<br>\n",
    "   $\\textbf{v} \\cdotp \\textbf{w}$<br>\n",
    "    $v \\cdotp w = v_1(w_1) + v_2(w_2) + v_3(w_3) = 3(2) + 5(1) + 1(-3) = 6+5+(-3) = 8$<br>\n",
    "   $\\textbf{u} \\cdotp \\textbf{w}$<br>\n",
    "   $u \\cdotp w = u_1(w_1) + u_2(w_2) + u_3(w_3) = 1(2) - 2(1) + 4(-3) = 2+(-2)+(-12) = -12$<br>\n",
    "\n",
    "   d.<br>\n",
    "   $||u|| = \\sqrt{u \\cdotp u} =\\sqrt{1(1) + (-2)(-2) + (4)(4)}=\\sqrt{1 + 4 + 16} = \\sqrt{21}$<br>\n",
    "   $||v|| = \\sqrt{v \\cdotp v} =\\sqrt{3(3) + (5)(5) + (1)(1)}=\\sqrt{9 + 25 + 1} = \\sqrt{35}$<br>\n",
    "   $||w|| = \\sqrt{w \\cdotp w} =\\sqrt{2(2) + (1)(1) + (-3)(-3)}=\\sqrt{4 + 1 + 9} = \\sqrt{14}$<br>\n",
    "\n",
    "   e. If $\\theta$ is the angle between $\\textbf{u}$  and   $\\textbf{v}$, find $\\cos{\\theta}$.<br> \n",
    "   Solution:\n",
    "    - $\\cos{\\theta} = \\frac{u \\cdotp v}{||u|| \\ ||v||}$\n",
    "    - Solving for $u \\cdotp v = 1(3) - 2(5) + 4(1) = 3 - 10 + 4 = -3$\n",
    "    - Solving for $||u|| = \\sqrt{u \\cdotp u} =\\sqrt{1(1) + (-2)(-2) + (4)(4)}=\\sqrt{1 + 4 + 16} = \\sqrt{21}$<br>\n",
    "    - Solving for $||v|| = \\sqrt{v \\cdotp v} =\\sqrt{3(3) + (5)(5) + (1)(1)}=\\sqrt{9 + 25 + 1} = \\sqrt{35}$<br>\n",
    "    - $ \\therefore \\cos{\\theta} = \\frac{u \\cdotp v}{||u|| \\ ||v||} = = \\frac{-3}{\\sqrt{21} \\ \\sqrt{35}}$<br>\n",
    "    <br>\n",
    "\n",
    "   f. If $\\alpha$ is the angle between $\\textbf{v}$  and   $\\textbf{w}$, find $\\cos{\\alpha}$.<br>\n",
    "   Solution:\n",
    "    - $\\cos{\\alpha} = \\frac{u \\cdotp v}{||u|| \\ ||v||}$\n",
    "    - Solving for $v \\cdotp w = 3(2) + 5(1) + 1(-3) = 6+5+(-3) = 8$\n",
    "    - Solving for $||v|| = \\sqrt{v \\cdotp v} =\\sqrt{3(3) + (5)(5) + (1)(1)}=\\sqrt{9 + 25 + 1} = \\sqrt{35}$<br>\n",
    "    - Solving for $||w|| = \\sqrt{w \\cdotp w} =\\sqrt{2(2) + (1)(1) + (-3)(-3)}=\\sqrt{4 + 1 + 9} = \\sqrt{14}$<br>\n",
    "    - $ \\therefore \\cos{\\alpha} = \\frac{v \\cdotp w}{||v|| \\ ||w||} = = \\frac{8}{\\sqrt{35} \\ \\sqrt{14}}$<br>\n",
    "    <br>\n",
    "    \n",
    "    g. If $\\beta$ is the angle between $\\textbf{u}$  and   $\\textbf{w}$, find $\\cos{\\beta}$.<br>\n",
    "    Solution:\n",
    "    - $\\cos{\\beta} = \\frac{u \\cdotp w}{||u|| \\ ||w||}$\n",
    "    - Solving for $u \\cdotp w =  1(2) - 2(1) + 4(-3) = 2+(-2)+(-12) = -12$<br>\n",
    "    - Solving for $||u|| = \\sqrt{u \\cdotp u} =\\sqrt{1(1) + (-2)(-2) + (4)(4)}=\\sqrt{1 + 4 + 16} = \\sqrt{21}$<br>\n",
    "    - Solving for $||w|| = \\sqrt{w \\cdotp w} =\\sqrt{2(2) + (1)(1) + (-3)(-3)}=\\sqrt{4 + 1 + 9} = \\sqrt{14}$<br>\n",
    "    - $ \\therefore \\cos{\\beta} = \\frac{u \\cdotp w}{||u|| \\ ||w||} = = \\frac{-12}{\\sqrt{21} \\ \\sqrt{14}}$<br>\n",
    "    <br>\n",
    "\n",
    "    h. Find $d(\\textbf{u},\\textbf{v})$.<br>\n",
    "    $d(u,v) = ||u-v|| = \\sqrt{(1-3)^2 + (-2-5)^2 + (4-1)^2} = \\sqrt{(-2)^2 + (-7)^2 + (3)^2} = \\sqrt{4+49+9} = \\sqrt{62}$\n",
    "   <br>\n",
    "\n",
    "    i. Find $d(\\textbf{w},\\textbf{v})$.<br>\n",
    "    $d(w,v) = ||w-v|| = \\sqrt{(2-3)^2 + (1-5)^2 + (-3-1)^2} = \\sqrt{(-1)^2 + (-4)^2 + (-4)^2} = \\sqrt{1+16+16} = \\sqrt{33}$\n",
    "   <br>\n",
    "    \n",
    "    j. Find $d(\\textbf{u},\\textbf{w})$. <br>\n",
    "    $d(u,w) = ||u-w|| = \\sqrt{(1-2)^2 + (-2-1)^2 + (4-(-3))^2} = \\sqrt{(-1)^2 + (-3)^2 + (7)^2} = \\sqrt{1+9+49} = \\sqrt{59}$\n",
    "   <br>\n",
    "   \n",
    "    k. Find $proj(\\textbf{u},\\textbf{v})$.<br>\n",
    "    $proj(u,v) = \\frac{u \\cdotp v}{||v||^2}v = \\frac{-3}{(\\sqrt{35})^2}(3,5,1) = (\\frac{-9}{35},\\frac{-15}{35},\\frac{-3}{35}) $<br>\n",
    "    \n",
    "    l. Find $proj(\\textbf{w},\\textbf{v})$.<br>\n",
    "    $proj(w,v) = \\frac{w \\cdotp v}{||v||^2}v = \\frac{8}{(\\sqrt{35})^2}(3,5,1) = (\\frac{24}{35},\\frac{40}{35},\\frac{8}{35}) $<br>\n",
    "    \n",
    "    m. Find $proj(\\textbf{u},\\textbf{w})$.<br>\n",
    "    $proj(u,w) = \\frac{u \\cdotp w}{||w||^2}v = \\frac{-12}{(\\sqrt{14})^2}(2,1,-3) = (\\frac{-24}{14},\\frac{-12}{14},\\frac{36}{14}) $<br>\n",
    "    \n",
    "   "
   ]
  },
  {
   "cell_type": "markdown",
   "id": "c0f85cb7-574d-4b3d-8c76-526106a764e3",
   "metadata": {},
   "source": [
    "##### Pythonic Solution to 1.a"
   ]
  },
  {
   "cell_type": "code",
   "execution_count": 63,
   "id": "26467501-333e-45b9-9f65-fc2abe313995",
   "metadata": {},
   "outputs": [
    {
     "name": "stdout",
     "output_type": "stream",
     "text": [
      "[ -3 -16  10]\n"
     ]
    }
   ],
   "source": [
    "import numpy as np\n",
    "\n",
    "u = np.array([1, -2, 4])\n",
    "v = np.array([3, 5, 1])\n",
    "\n",
    "print((3*u) - (2*v))"
   ]
  },
  {
   "cell_type": "markdown",
   "id": "470dce59-ac2b-4ff1-b98f-c5a177ab80bf",
   "metadata": {},
   "source": [
    "##### Pythonic Solution to 1.b"
   ]
  },
  {
   "cell_type": "code",
   "execution_count": 64,
   "id": "20c2e1f3-d231-4802-8db5-7e905c201ceb",
   "metadata": {},
   "outputs": [
    {
     "name": "stdout",
     "output_type": "stream",
     "text": [
      "[ 6  1 35]\n"
     ]
    }
   ],
   "source": [
    "import numpy as np\n",
    "\n",
    "u = np.array([1, -2, 4])\n",
    "v = np.array([3, 5, 1])\n",
    "w = np.array([2, 1, -3])\n",
    "\n",
    "print((5*u) + (3*v) - (4*w))"
   ]
  },
  {
   "cell_type": "markdown",
   "id": "a03ad310-354e-4467-940e-d7e004dd1556",
   "metadata": {},
   "source": [
    "##### Pythonic Solution to 1.c"
   ]
  },
  {
   "cell_type": "code",
   "execution_count": 65,
   "id": "13343ea5-a4e1-4d5f-ad1f-2b910f42408e",
   "metadata": {},
   "outputs": [
    {
     "name": "stdout",
     "output_type": "stream",
     "text": [
      "u.v =  -3\n",
      "u.w =  8\n",
      "v.w =  -12\n"
     ]
    }
   ],
   "source": [
    "import numpy as np\n",
    "\n",
    "u = np.array([1, -2, 4])\n",
    "v = np.array([3, 5, 1])\n",
    "w = np.array([2, 1, -3])\n",
    "\n",
    "print(\"u.v = \", u.dot(v))\n",
    "print(\"u.w = \", v.dot(w))\n",
    "print(\"v.w = \", u.dot(w))"
   ]
  },
  {
   "cell_type": "markdown",
   "id": "707ac958-2f6d-4c8f-a02c-90061f2bb3fa",
   "metadata": {},
   "source": [
    "##### Pythonic Solution to 1.d"
   ]
  },
  {
   "cell_type": "code",
   "execution_count": 66,
   "id": "ff5a8f9d-f3ed-457e-93b5-a11a07f6d86e",
   "metadata": {},
   "outputs": [
    {
     "name": "stdout",
     "output_type": "stream",
     "text": [
      "||u||:  4.58257569495584\n",
      "sqrt(21):  4.58257569495584\n",
      "||v||:  5.916079783099616\n",
      "sqrt(35):  5.916079783099616\n",
      "||w||:  3.7416573867739413\n",
      "sqrt(14):  3.7416573867739413\n"
     ]
    }
   ],
   "source": [
    "import numpy as np\n",
    "from numpy.linalg import norm\n",
    "\n",
    "u = np.array([1, -2, 4])\n",
    "v = np.array([3, 5, 1])\n",
    "w = np.array([2, 1, -3])\n",
    "\n",
    "\n",
    "print('||u||: ', np.sqrt(u.dot(u)))\n",
    "print('sqrt(21): ', np.sqrt(21))\n",
    "\n",
    "print('||v||: ', np.sqrt(v.dot(v)))\n",
    "print('sqrt(35): ', np.sqrt(35))\n",
    "\n",
    "print('||w||: ', np.sqrt(w.dot(w)))\n",
    "print('sqrt(14): ', np.sqrt(14))"
   ]
  },
  {
   "cell_type": "markdown",
   "id": "79efd53a-f64d-40e2-bead-efe4c5a746e7",
   "metadata": {},
   "source": [
    "##### Pythonic Solution to 1.e"
   ]
  },
  {
   "cell_type": "code",
   "execution_count": 67,
   "id": "9b549095-0770-489b-84b1-d4ef7cb6b49a",
   "metadata": {},
   "outputs": [
    {
     "name": "stdout",
     "output_type": "stream",
     "text": [
      "angle:  -0.11065666703449763\n",
      "angle:  -0.11065666703449763\n"
     ]
    }
   ],
   "source": [
    "import numpy as np\n",
    "from numpy.linalg import norm\n",
    "\n",
    "u = np.array([1, -2, 4])\n",
    "v = np.array([3, 5, 1])\n",
    "\n",
    "print('angle: ', np.dot(u,v)/(np.linalg.norm(u)*np.linalg.norm(v)))\n",
    "print(\"angle: \",-3/(np.sqrt(21)*np.sqrt(35)))"
   ]
  },
  {
   "cell_type": "markdown",
   "id": "4986131f-e8c9-4e2d-a46f-2755ce459160",
   "metadata": {},
   "source": [
    "##### Pythonic Solution to 1.f"
   ]
  },
  {
   "cell_type": "code",
   "execution_count": 68,
   "id": "d29cf663-adf4-4547-abf5-887e2bfbd411",
   "metadata": {},
   "outputs": [
    {
     "name": "stdout",
     "output_type": "stream",
     "text": [
      "angle:  0.36140316116210053\n",
      "angle:  0.36140316116210053\n"
     ]
    }
   ],
   "source": [
    "import numpy as np\n",
    "from numpy.linalg import norm\n",
    "\n",
    "v = np.array([3, 5, 1])\n",
    "w = np.array([2, 1, -3])\n",
    "\n",
    "print('angle: ', np.dot(v,w)/(np.linalg.norm(v)*np.linalg.norm(w)))\n",
    "print(\"angle: \",8/(np.sqrt(35)*np.sqrt(14)))"
   ]
  },
  {
   "cell_type": "markdown",
   "id": "21377a7e-7890-49a7-aea4-371290c99790",
   "metadata": {},
   "source": [
    "##### Pythonic Solution to 1.g"
   ]
  },
  {
   "cell_type": "code",
   "execution_count": 69,
   "id": "16118d7f-ae55-468c-b881-8513e8d5de95",
   "metadata": {},
   "outputs": [
    {
     "name": "stdout",
     "output_type": "stream",
     "text": [
      "angle:  -0.6998542122237653\n",
      "angle:  -0.6998542122237653\n"
     ]
    }
   ],
   "source": [
    "import numpy as np\n",
    "from numpy.linalg import norm\n",
    "\n",
    "u = np.array([1, -2, 4])\n",
    "w = np.array([2, 1, -3])\n",
    "\n",
    "print('angle: ', np.dot(u,w)/(np.linalg.norm(u)*np.linalg.norm(w)))\n",
    "print(\"angle: \",-12/(np.sqrt(21)*np.sqrt(14)))"
   ]
  },
  {
   "cell_type": "markdown",
   "id": "65b0ca1b-4c50-4056-852e-9d17e0ae1ad8",
   "metadata": {},
   "source": [
    "##### Pythonic Solution to 1.h"
   ]
  },
  {
   "cell_type": "code",
   "execution_count": 70,
   "id": "a07ca031-71b8-485f-83d9-cb86707f25da",
   "metadata": {},
   "outputs": [
    {
     "name": "stdout",
     "output_type": "stream",
     "text": [
      "d(u,v):  7.874007874011811\n",
      "sqrt(62):  7.874007874011811\n"
     ]
    }
   ],
   "source": [
    "import numpy as np\n",
    "from numpy.linalg import norm\n",
    "\n",
    "u = np.array([1, -2, 4])\n",
    "v = np.array([3, 5, 1])\n",
    "w = np.array([2, 1, -3])\n",
    "\n",
    "print('d(u,v): ', np.linalg.norm(u - v))\n",
    "print(\"sqrt(62): \", np.sqrt(62))"
   ]
  },
  {
   "cell_type": "markdown",
   "id": "85fc16c4-49da-47c3-acf9-b3dfbde8d084",
   "metadata": {},
   "source": [
    "##### Pythonic Solution to 1.i"
   ]
  },
  {
   "cell_type": "code",
   "execution_count": 71,
   "id": "84585c4e-3b5a-4af0-b9ff-727d2ca9711c",
   "metadata": {},
   "outputs": [
    {
     "name": "stdout",
     "output_type": "stream",
     "text": [
      "d(w,v):  5.744562646538029\n",
      "sqrt(33):  5.744562646538029\n"
     ]
    }
   ],
   "source": [
    "import numpy as np\n",
    "from numpy.linalg import norm\n",
    "\n",
    "u = np.array([1, -2, 4])\n",
    "v = np.array([3, 5, 1])\n",
    "w = np.array([2, 1, -3])\n",
    "\n",
    "print('d(w,v): ', np.linalg.norm(w - v))\n",
    "print(\"sqrt(33): \", np.sqrt(33))"
   ]
  },
  {
   "cell_type": "markdown",
   "id": "c8e4ffe1-7905-47f7-b8b9-4a10052f5a45",
   "metadata": {},
   "source": [
    "##### Pythonic Solution to 1.j"
   ]
  },
  {
   "cell_type": "code",
   "execution_count": 72,
   "id": "1f72a9e5-f6ba-4d59-a459-c1ebd548ebac",
   "metadata": {},
   "outputs": [
    {
     "name": "stdout",
     "output_type": "stream",
     "text": [
      "d(w,v):  7.681145747868608\n",
      "sqrt(59):  7.681145747868608\n"
     ]
    }
   ],
   "source": [
    "import numpy as np\n",
    "from numpy.linalg import norm\n",
    "\n",
    "u = np.array([1, -2, 4])\n",
    "v = np.array([3, 5, 1])\n",
    "w = np.array([2, 1, -3])\n",
    "\n",
    "print('d(w,v): ', np.linalg.norm(u - w))\n",
    "print(\"sqrt(59): \", np.sqrt(59))"
   ]
  },
  {
   "cell_type": "markdown",
   "id": "10b9d006-e9c9-4a87-8591-938d9eeaf142",
   "metadata": {},
   "source": [
    "##### Pythonic Solution to 1.k"
   ]
  },
  {
   "cell_type": "code",
   "execution_count": 73,
   "id": "828b5f44-5f51-4b1e-ba26-3fd80394326a",
   "metadata": {},
   "outputs": [
    {
     "name": "stdout",
     "output_type": "stream",
     "text": [
      "proj(u,v):  [-0.25714286 -0.42857143 -0.08571429]\n",
      "proj(u,v):  [-0.2571428571428571, -0.42857142857142855, -0.08571428571428572]\n"
     ]
    }
   ],
   "source": [
    "import numpy as np\n",
    "from numpy.linalg import norm\n",
    "\n",
    "u = np.array([1, -2, 4])\n",
    "v = np.array([3, 5, 1])\n",
    "w = np.array([2, 1, -3])\n",
    "\n",
    "print(\"proj(u,v): \",u.dot(v)*v/(np.linalg.norm(v)**2) )\n",
    "print(\"proj(u,v): \",[-9/35,-15/35,-3/35])"
   ]
  },
  {
   "cell_type": "markdown",
   "id": "300b7640-4d14-4a95-8f90-175291e442b3",
   "metadata": {},
   "source": [
    "##### Pythonic Solution to 1.l"
   ]
  },
  {
   "cell_type": "code",
   "execution_count": 74,
   "id": "c7492e7b-3297-4a9f-a634-b46ea5eb7b80",
   "metadata": {},
   "outputs": [
    {
     "name": "stdout",
     "output_type": "stream",
     "text": [
      "proj(w,v):  [0.68571429 1.14285714 0.22857143]\n",
      "proj(w,v):  [0.6857142857142857, 1.1428571428571428, 0.22857142857142856]\n"
     ]
    }
   ],
   "source": [
    "import numpy as np\n",
    "from numpy.linalg import norm\n",
    "\n",
    "u = np.array([1, -2, 4])\n",
    "v = np.array([3, 5, 1])\n",
    "w = np.array([2, 1, -3])\n",
    "\n",
    "print(\"proj(w,v): \",w.dot(v)*v/(np.linalg.norm(v)**2) )\n",
    "print(\"proj(w,v): \",[24/35,40/35,8/35])"
   ]
  },
  {
   "cell_type": "markdown",
   "id": "771d13eb-031d-4147-bb5a-5b34a626c918",
   "metadata": {},
   "source": [
    "##### Pythonic Solution to 1.m"
   ]
  },
  {
   "cell_type": "code",
   "execution_count": 75,
   "id": "f2dd8430-71fc-465d-922d-6a3c355f460a",
   "metadata": {},
   "outputs": [
    {
     "name": "stdout",
     "output_type": "stream",
     "text": [
      "proj(w,v):  [-1.71428571 -0.85714286  2.57142857]\n",
      "proj(w,v):  [-1.7142857142857142, -0.8571428571428571, 2.5714285714285716]\n"
     ]
    }
   ],
   "source": [
    "import numpy as np\n",
    "from numpy.linalg import norm\n",
    "\n",
    "u = np.array([1, -2, 4])\n",
    "v = np.array([3, 5, 1])\n",
    "w = np.array([2, 1, -3])\n",
    "\n",
    "print(\"proj(w,v): \",u.dot(w)*w/(np.linalg.norm(w)**2) )\n",
    "print(\"proj(w,v): \",[-12/7,-6/7,18/7])"
   ]
  },
  {
   "cell_type": "markdown",
   "id": "6a874ce4-07e9-4d30-b9a1-9d6960050a8e",
   "metadata": {},
   "source": [
    "2. Let \\begin{align}\n",
    "    \\textbf{u} &= \\begin{bmatrix}\n",
    "           1 \\\\\n",
    "           3 \\\\\n",
    "           -4\n",
    "         \\end{bmatrix}, \\textbf{v} = \\begin{bmatrix}\n",
    "           2 \\\\\n",
    "           1 \\\\\n",
    "           5\n",
    "         \\end{bmatrix}, \\textbf{w} = \\begin{bmatrix}\n",
    "           3 \\\\\n",
    "           -2 \\\\\n",
    "           6\n",
    "         \\end{bmatrix}\n",
    "  \\end{align}\n",
    "<br> find:\n",
    "   \n",
    "   a. 3u - 2v\n",
    "\\begin{align}\n",
    "    3\\textbf{u}-2\\textbf{v} &= 3\\begin{bmatrix}\n",
    "           1 \\\\\n",
    "           3 \\\\\n",
    "           -4\n",
    "         \\end{bmatrix} - 2 \\begin{bmatrix}\n",
    "           2 \\\\\n",
    "           1 \\\\\n",
    "           5\n",
    "         \\end{bmatrix}= \\begin{bmatrix}\n",
    "           3 \\\\\n",
    "           9 \\\\\n",
    "           -12\n",
    "         \\end{bmatrix} + \\begin{bmatrix}\n",
    "           -4 \\\\\n",
    "           -2 \\\\\n",
    "           -10\n",
    "         \\end{bmatrix} = \\begin{bmatrix}\n",
    "           -1 \\\\\n",
    "           7 \\\\\n",
    "           -22\n",
    "         \\end{bmatrix}\n",
    "  \\end{align}\n",
    "<br>\n",
    "   b. 5u + 3v - 4w\n",
    "\\begin{align}\n",
    "    &= 5\\begin{bmatrix}\n",
    "           1 \\\\\n",
    "           3 \\\\\n",
    "           -4\n",
    "         \\end{bmatrix} + 3 \\begin{bmatrix}\n",
    "           2 \\\\\n",
    "           1 \\\\\n",
    "           5\n",
    "         \\end{bmatrix}- 4 \\begin{bmatrix}\n",
    "           3 \\\\\n",
    "           -2 \\\\\n",
    "           6\n",
    "         \\end{bmatrix}\n",
    "    \\end{align}\n",
    "\\begin{align}\n",
    "   &= \\begin{bmatrix}\n",
    "        5 \\\\\n",
    "        15 \\\\\n",
    "        -20\n",
    "      \\end{bmatrix} + \\begin{bmatrix}\n",
    "        6 \\\\\n",
    "        3 \\\\\n",
    "        15\n",
    "      \\end{bmatrix} + \\begin{bmatrix}\n",
    "        -12 \\\\\n",
    "        8 \\\\\n",
    "        -24\n",
    "      \\end{bmatrix}\n",
    "    \\end{align}\n",
    "\\begin{align}\n",
    "    &= \\begin{bmatrix}\n",
    "        -1 \\\\\n",
    "        26 \\\\\n",
    "        -29\n",
    "    \\end{bmatrix}\n",
    "\\end{align}\n",
    "<br>\n",
    "\n",
    "\n",
    "   c.<br>\n",
    "   $\\textbf{u} \\cdotp \\textbf{v}$<br>\n",
    "    $u \\cdotp v = u_1(v_1) + u_2(v_2) + u_3(v_3) = 1(2) + 3(1) - 4(5) = 2-3+20 = -15$<br>\n",
    "   $\\textbf{v} \\cdotp \\textbf{w}$<br>\n",
    "    $v \\cdotp w = v_1(w_1) + v_2(w_2) + v_3(w_3) = 2(3) + 1(-2) + 5(6) = 6+(-2)+30 = 34$<br>\n",
    "   $\\textbf{u} \\cdotp \\textbf{w}$<br>\n",
    "   $u \\cdotp w = u_1(w_1) + u_2(w_2) + u_3(w_3) = 1(3) + 3(-2) - 4(6) = 3+(-6)+(-24) = -27$<br>\n",
    "\n",
    "   d.<br>\n",
    "   $||u|| = \\sqrt{u \\cdotp u} =\\sqrt{1(1) + (3)(3) + (4)(4)}=\\sqrt{1 + 9 + 16} = \\sqrt{26}$<br>\n",
    "   $||v|| = \\sqrt{v \\cdotp v} =\\sqrt{2(2) + (1)(1) + (5)(5)}=\\sqrt{4 + 1 + 25} = \\sqrt{30}$<br>\n",
    "   $||w|| = \\sqrt{w \\cdotp w} =\\sqrt{3(3) + (-2)(-2) + (6)(6)}=\\sqrt{9 + 4 + 36} = \\sqrt{49}$<br>\n",
    "\n",
    "   e. If $\\theta$ is the angle between $\\textbf{u}$  and   $\\textbf{v}$, find $\\cos{\\theta}$.<br> \n",
    "   Solution:\n",
    "    - $\\cos{\\theta} = \\frac{u \\cdotp v}{||u|| \\ ||v||}$\n",
    "    - $ = = \\frac{-15}{\\sqrt{26} \\ \\sqrt{30}}$<br>\n",
    "    <br>\n",
    "\n",
    "   f. If $\\alpha$ is the angle between $\\textbf{v}$  and   $\\textbf{w}$, find $\\cos{\\alpha}$.<br>\n",
    "   Solution:\n",
    "    - $\\cos{\\alpha} = \\frac{u \\cdotp v}{||u|| \\ ||v||}$\n",
    "    - $ = = \\frac{34}{\\sqrt{30} \\ \\sqrt{49}}$<br>\n",
    "    <br>\n",
    "    \n"
   ]
  },
  {
   "cell_type": "markdown",
   "id": "f0758147-48b6-4350-8bd6-7de29b7023d0",
   "metadata": {},
   "source": [
    "   g. If $\\beta$ is the angle between $\\textbf{u}$  and   $\\textbf{w}$, find $\\cos{\\beta}$.<br>\n",
    "    Solution:\n",
    "    - $\\cos{\\beta} = \\frac{u \\cdotp w}{||u|| \\ ||w||}$\n",
    "    - $ = = \\frac{-27}{\\sqrt{26} \\ \\sqrt{49}}$<br>\n",
    "    <br>\n",
    "\n",
    " h. Find $d(\\textbf{u},\\textbf{v})$.<br>\n",
    "    $d(u,v) = ||u-v|| = \\sqrt{(1-2)^2 + (3-1)^2 + ((-4)-5)^2} = \\sqrt{(-1)^2 + (3)^2 + (-9)^2} = \\sqrt{1+4+81} = \\sqrt{86}$\n",
    "   <br>\n",
    "   \n",
    " i. Find $d(\\textbf{w},\\textbf{v})$.<br>\n",
    "    $d(w,v) = ||w-v|| = \\sqrt{(3-2)^2 + ((-2)-1)^2 + (6-5)^2} = \\sqrt{(1)^2 + (-3)^2 + (1)^2} = \\sqrt{1+9+1} = \\sqrt{11}$\n",
    "   <br>\n",
    "   \n",
    " j. Find $d(\\textbf{u},\\textbf{w})$. <br>\n",
    "    $d(u,w) = ||u-w|| = \\sqrt{(1-3)^2 + (3-(-2))^2 + ((-4)-6)^2} = \\sqrt{(-2)^2 + (5)^2 + (-10)^2} = \\sqrt{4+25+100} = \\sqrt{129}$\n",
    "   <br>\n",
    "\n",
    "   k. Find $proj(\\textbf{u},\\textbf{v})$.<br>\n",
    "    $proj(u,v) = \\frac{u \\cdotp v}{||v||^2}v = \\frac{-15}{(\\sqrt{30})^2}(2,1,5) = (\\frac{-30}{30},\\frac{-30}{30},\\frac{-75}{30}) $<br>\n",
    "    \n",
    "  l. Find $proj(\\textbf{w},\\textbf{v})$.<br>\n",
    "    $proj(w,v) = \\frac{w \\cdotp v}{||v||^2}v = \\frac{34}{(\\sqrt{30})^2}(2,1,5) = (\\frac{68}{30},\\frac{34}{30},\\frac{170}{30}) $<br>\n",
    "\n",
    "  m. Find $proj(\\textbf{u},\\textbf{w})$.<br>\n",
    "    $proj(u,w) = \\frac{u \\cdotp w}{||w||^2}v = \\frac{-27}{(\\sqrt{49})^2}(3,-2,6) = (\\frac{-81}{49},\\frac{54}{49},\\frac{-162}{49}) $<br>"
   ]
  },
  {
   "cell_type": "markdown",
   "id": "cc377feb-f103-426e-8522-5059a5cbf4c5",
   "metadata": {},
   "source": [
    "#### Pythonic Solution to 2.a"
   ]
  },
  {
   "cell_type": "code",
   "execution_count": 76,
   "id": "fe449351-e671-4304-b48e-6bf0ccefb654",
   "metadata": {},
   "outputs": [
    {
     "name": "stdout",
     "output_type": "stream",
     "text": [
      "[ -1   7 -22]\n"
     ]
    }
   ],
   "source": [
    "import numpy as np\n",
    "u = np.array([1, 3, -4])\n",
    "v = np.array([2, 1, 5])\n",
    "\n",
    "print((3*u) - (2*v))"
   ]
  },
  {
   "cell_type": "markdown",
   "id": "eaf95351-dc23-4327-ab31-e3038ebb6ffd",
   "metadata": {},
   "source": [
    "##### Pythonic Solution to 2.b"
   ]
  },
  {
   "cell_type": "code",
   "execution_count": 77,
   "id": "dceea57e-044b-4dc0-af9d-7ed8c7cc32fb",
   "metadata": {},
   "outputs": [
    {
     "name": "stdout",
     "output_type": "stream",
     "text": [
      "[ -1  26 -29]\n"
     ]
    }
   ],
   "source": [
    "import numpy as np\n",
    "u = np.array([1, 3, -4])\n",
    "v = np.array([2, 1, 5])\n",
    "w = np.array([3, -2, 6])\n",
    "\n",
    "print((5*u) + (3*v) - (4*w))"
   ]
  },
  {
   "cell_type": "markdown",
   "id": "724dd138-d41a-488d-92e6-a4e6a1178f19",
   "metadata": {},
   "source": [
    "##### Pythonic Solution to 2.c"
   ]
  },
  {
   "cell_type": "code",
   "execution_count": 78,
   "id": "942aa4f7-cd62-42d0-9a0a-93fb5cbb6ab7",
   "metadata": {},
   "outputs": [
    {
     "name": "stdout",
     "output_type": "stream",
     "text": [
      "u.v =  -15\n",
      "v.w =  34\n",
      "u.w =  -27\n"
     ]
    }
   ],
   "source": [
    "import numpy as np\n",
    "u = np.array([1, 3, -4])\n",
    "v = np.array([2, 1, 5])\n",
    "w = np.array([3, -2, 6])\n",
    "\n",
    "print(\"u.v = \", u.dot(v))\n",
    "print(\"v.w = \", v.dot(w))\n",
    "print(\"u.w = \", u.dot(w))"
   ]
  },
  {
   "cell_type": "markdown",
   "id": "19aa8933-6278-4a34-a377-6e1a343badf4",
   "metadata": {},
   "source": [
    "##### Pythonic Solution to 2.d"
   ]
  },
  {
   "cell_type": "code",
   "execution_count": 79,
   "id": "9d106a94-b774-4ac2-9721-4cae59ac1de0",
   "metadata": {},
   "outputs": [
    {
     "name": "stdout",
     "output_type": "stream",
     "text": [
      "||u||:  5.0990195135927845\n",
      "sqrt(26):  5.0990195135927845\n",
      "||v||:  5.477225575051661\n",
      "sqrt(30):  5.477225575051661\n",
      "||w||:  7.0\n",
      "sqrt(49):  7.0\n"
     ]
    }
   ],
   "source": [
    "import numpy as np\n",
    "from numpy.linalg import norm\n",
    "u = np.array([1, 3, -4])\n",
    "v = np.array([2, 1, 5])\n",
    "w = np.array([3, -2, 6])\n",
    "\n",
    "\n",
    "print('||u||: ', np.sqrt(u.dot(u)))\n",
    "print('sqrt(26): ', np.sqrt(26))\n",
    "\n",
    "print('||v||: ', np.sqrt(v.dot(v)))\n",
    "print('sqrt(30): ', np.sqrt(30))\n",
    "\n",
    "print('||w||: ', np.sqrt(w.dot(w)))\n",
    "print('sqrt(49): ', np.sqrt(49))"
   ]
  },
  {
   "cell_type": "markdown",
   "id": "4d5f50d7-ef79-47be-a48f-dd82856f6db7",
   "metadata": {},
   "source": [
    "##### Pythonic Solution to 2.e"
   ]
  },
  {
   "cell_type": "code",
   "execution_count": 80,
   "id": "34be7fbe-1178-43f0-8fe0-bd720589dc19",
   "metadata": {},
   "outputs": [
    {
     "name": "stdout",
     "output_type": "stream",
     "text": [
      "angle:  -0.5370861555295747\n",
      "angle:  -0.5370861555295747\n"
     ]
    }
   ],
   "source": [
    "import numpy as np\n",
    "from numpy.linalg import norm\n",
    "u = np.array([1, 3, -4])\n",
    "v = np.array([2, 1, 5])\n",
    "w = np.array([3, -2, 6])\n",
    "\n",
    "print('angle: ', np.dot(u,v)/(np.linalg.norm(u)*np.linalg.norm(v)))\n",
    "print(\"angle: \",-15/(np.sqrt(26)*np.sqrt(30)))"
   ]
  },
  {
   "cell_type": "markdown",
   "id": "ea2338d2-7957-44a1-a6e9-a0d34756b00f",
   "metadata": {},
   "source": [
    "##### Pythonic Solution to 2.f"
   ]
  },
  {
   "cell_type": "code",
   "execution_count": 81,
   "id": "52e74a9b-7c3b-4073-a2be-a95b75008674",
   "metadata": {},
   "outputs": [
    {
     "name": "stdout",
     "output_type": "stream",
     "text": [
      "angle:  0.8867889026274118\n",
      "angle:  0.8867889026274118\n"
     ]
    }
   ],
   "source": [
    "import numpy as np\n",
    "from numpy.linalg import norm\n",
    "v = np.array([2, 1, 5])\n",
    "w = np.array([3, -2, 6])\n",
    "\n",
    "print('angle: ', np.dot(v,w)/(np.linalg.norm(w)*np.linalg.norm(v)))\n",
    "print(\"angle: \",34/(np.sqrt(30)*np.sqrt(49)))"
   ]
  },
  {
   "cell_type": "markdown",
   "id": "7e6279d3-34ac-4b6d-929e-2b73c4382be8",
   "metadata": {},
   "source": [
    "##### Pythonic Solution to 2.g"
   ]
  },
  {
   "cell_type": "code",
   "execution_count": 82,
   "id": "8e6c3c8a-43b7-4f15-b8ae-b8ffcfa5b5a4",
   "metadata": {},
   "outputs": [
    {
     "name": "stdout",
     "output_type": "stream",
     "text": [
      "angle:  -0.7564479498187099\n",
      "angle:  -0.7564479498187099\n"
     ]
    }
   ],
   "source": [
    "import numpy as np\n",
    "from numpy.linalg import norm\n",
    "u = np.array([1, 3, -4])\n",
    "w = np.array([3, -2, 6])\n",
    "\n",
    "print('angle: ', np.dot(u,w)/(np.linalg.norm(u)*np.linalg.norm(w)))\n",
    "print(\"angle: \",-27/(np.sqrt(26)*np.sqrt(49)))"
   ]
  },
  {
   "cell_type": "markdown",
   "id": "8f545263-3313-4d52-910b-6ac676064149",
   "metadata": {},
   "source": [
    "##### Pythonic Solution to 2.h"
   ]
  },
  {
   "cell_type": "code",
   "execution_count": 83,
   "id": "4c3b5a4d-9746-48d7-83b3-071a1af930f8",
   "metadata": {},
   "outputs": [
    {
     "name": "stdout",
     "output_type": "stream",
     "text": [
      "d(u,v):  9.273618495495704\n",
      "sqrt(86):  9.273618495495704\n"
     ]
    }
   ],
   "source": [
    "import numpy as np\n",
    "from numpy.linalg import norm\n",
    "u = np.array([1, 3, -4])\n",
    "v = np.array([2, 1, 5])\n",
    "\n",
    "print('d(u,v): ', np.linalg.norm(u - v))\n",
    "print(\"sqrt(86): \", np.sqrt(86))"
   ]
  },
  {
   "cell_type": "markdown",
   "id": "345a7716-5888-493d-8b45-55ff0875260a",
   "metadata": {},
   "source": [
    "##### Pythonic Solution to 2.i"
   ]
  },
  {
   "cell_type": "code",
   "execution_count": 84,
   "id": "205ba8e1-c914-49f8-90c9-23e1bef1ec2a",
   "metadata": {},
   "outputs": [
    {
     "name": "stdout",
     "output_type": "stream",
     "text": [
      "d(w,v):  3.3166247903554\n",
      "sqrt(11):  3.3166247903554\n"
     ]
    }
   ],
   "source": [
    "import numpy as np\n",
    "from numpy.linalg import norm\n",
    "v = np.array([2, 1, 5])\n",
    "w = np.array([3, -2, 6])\n",
    "\n",
    "print('d(w,v): ', np.linalg.norm(w - v))\n",
    "print(\"sqrt(11): \", np.sqrt(11))"
   ]
  },
  {
   "cell_type": "markdown",
   "id": "e22c8409-636d-4fd2-a7b2-df2c87c225fd",
   "metadata": {},
   "source": [
    "##### Pythonic Solution to 2.j"
   ]
  },
  {
   "cell_type": "code",
   "execution_count": 85,
   "id": "d538b522-05a9-4ea4-bc37-f107ce9011d7",
   "metadata": {},
   "outputs": [
    {
     "name": "stdout",
     "output_type": "stream",
     "text": [
      "d(u,w):  11.357816691600547\n",
      "sqrt(129):  11.357816691600547\n"
     ]
    }
   ],
   "source": [
    "import numpy as np\n",
    "from numpy.linalg import norm\n",
    "u = np.array([1, 3, -4])\n",
    "w = np.array([3, -2, 6])\n",
    "\n",
    "print('d(u,w): ', np.linalg.norm(u - w))\n",
    "print(\"sqrt(129): \", np.sqrt(129))"
   ]
  },
  {
   "cell_type": "markdown",
   "id": "9901c36a-2f48-4a0a-a926-bda70a8523a7",
   "metadata": {},
   "source": [
    "##### Pythonic Solution to 2.k"
   ]
  },
  {
   "cell_type": "code",
   "execution_count": 86,
   "id": "fde9dc8b-9188-4cce-be03-935ae694dc0f",
   "metadata": {},
   "outputs": [
    {
     "name": "stdout",
     "output_type": "stream",
     "text": [
      "proj(u,v):  [-1.  -0.5 -2.5]\n",
      "proj(u,v):  [-1.0, -0.5, -2.5]\n"
     ]
    }
   ],
   "source": [
    "import numpy as np\n",
    "from numpy.linalg import norm\n",
    "u = np.array([1, 3, -4])\n",
    "v = np.array([2, 1, 5])\n",
    "\n",
    "print(\"proj(u,v): \",u.dot(v)*v/(np.linalg.norm(v)**2) )\n",
    "print(\"proj(u,v): \",[-2/2,-1/2,-5/2])"
   ]
  },
  {
   "cell_type": "markdown",
   "id": "c8125663-8e70-4ea4-b4d3-08094e579384",
   "metadata": {},
   "source": [
    "##### Pythonic Solution to 2.l"
   ]
  },
  {
   "cell_type": "code",
   "execution_count": 87,
   "id": "2ff4f043-fdae-4ddc-ba7b-77586890aa6c",
   "metadata": {},
   "outputs": [
    {
     "name": "stdout",
     "output_type": "stream",
     "text": [
      "proj(w,v):  [2.26666667 1.13333333 5.66666667]\n",
      "proj(w,v):  [2.2666666666666666, 1.1333333333333333, 5.666666666666667]\n"
     ]
    }
   ],
   "source": [
    "import numpy as np\n",
    "from numpy.linalg import norm\n",
    "v = np.array([2, 1, 5])\n",
    "w = np.array([3, -2, 6])\n",
    "\n",
    "print(\"proj(w,v): \",w.dot(v)*v/(np.linalg.norm(v)**2) )\n",
    "print(\"proj(w,v): \",[68/30,34/30,170/30])"
   ]
  },
  {
   "cell_type": "markdown",
   "id": "71621e65-f7f3-445a-b4ea-26346ca79ca2",
   "metadata": {},
   "source": [
    "##### Pythonic Solution to 2.m"
   ]
  },
  {
   "cell_type": "code",
   "execution_count": 88,
   "id": "ce7e4275-bb5c-435a-84a1-90379df9bb82",
   "metadata": {},
   "outputs": [
    {
     "name": "stdout",
     "output_type": "stream",
     "text": [
      "proj(w,v):  [-1.65306122  1.10204082 -3.30612245]\n",
      "proj(w,v):  [-1.653061224489796, 1.1020408163265305, -3.306122448979592]\n"
     ]
    }
   ],
   "source": [
    "import numpy as np\n",
    "from numpy.linalg import norm\n",
    "u = np.array([1, 3, -4])\n",
    "v = np.array([2, 1, 5])\n",
    "w = np.array([3, -2, 6])\n",
    "\n",
    "print(\"proj(w,v): \",u.dot(w)*w/(np.linalg.norm(w)**2) )\n",
    "print(\"proj(w,v): \",[-81/49,54/49,-162/49])"
   ]
  },
  {
   "cell_type": "markdown",
   "id": "128c71bc-25fc-4974-8656-49c7345c0ec3",
   "metadata": {},
   "source": [
    "3. Let $\\textbf{u} = (2,-5,4,6,-3)$, $\\textbf{v} = (5,-2,1,-7,-4)$, and $\\textbf{w} = (2,1,-3)$ find:<br>\n",
    "   \n",
    "   a. $4\\textbf{u}-3\\textbf{v}$<br>\n",
    "   \n",
    "   [4(2),4(-5),4(4),4(6),4(-3)] + [-3(5),-3(-2),-3(1),-3(-7),-3(-4)]\n",
    "\n",
    "   [8,-20,16,24,-12] + [-15,6,-3,21,12]\n",
    "\n",
    "   [8+(-15),-20+6,16-(-3),24+21,-12+12] = (-7,-14,13,45,0)\n",
    "\n",
    "   b. $5\\textbf{u}+2\\textbf{v}-2\\textbf{w}$<br>\n",
    "\n",
    "   [5(2),5(-5),5(4),5(6),5(-3)] + [2(5),2(-2),2(1),2(-7),2(-4)] + [-2(2),-2(1),-2(-3)]\n",
    "\n",
    "   [10,-25,20,30,-15] + [10,-4,2,-14,-8] + [-4,-2,6]\n",
    "\n",
    "   = (16,-31,28,16,-23)\n",
    "\n",
    "   c.<br>\n",
    "   $\\textbf{u} \\cdotp \\textbf{v}$<br>\n",
    "    $u \\cdotp v = 2(5) + (-5)(-2) + (4)(1) + (6)(-7) + (-3)(-4) = 10+10+4+(-42)+12 = -6$<br>\n",
    "   $\\textbf{v} \\cdotp \\textbf{w}$<br>\n",
    "    $v \\cdotp w = 5(2) + (-2)(1) + 1(-3) + (-7)(0) + (-4)(0) = 5$<br>\n",
    "   $\\textbf{u} \\cdotp \\textbf{w}$<br>\n",
    "   $u \\cdotp w = 2(2) + (-5)(1) + 4(-3) + 6(0) + (-3)(0) = -13$<br>\n",
    "\n",
    "   d.<br>\n",
    "   $||u|| = \\sqrt{u \\cdotp u} =\\sqrt{2(2) + (5)(5) + (4)(4) + (6)(6) + (-3)(-3)}=\\sqrt{4 + 25 + 16 + 36 + 9} = \\sqrt{90}$<br>\n",
    "   $||v|| = \\sqrt{v \\cdotp v} =\\sqrt{5(5) + (2)(2) + (1)(1) + (-7)(-7) + (-4)(-4)}=\\sqrt{25 + 4 + 1 +49 + 16} = \\sqrt{95}$<br>\n",
    "   $||w|| = \\sqrt{w \\cdotp w} =\\sqrt{2(2) + (1)(1) + (-3)(-3)}=\\sqrt{4 + 1 + 9} = \\sqrt{14}$<br>\n",
    "\n",
    "   e. If $\\theta$ is the angle between $\\textbf{u}$  and   $\\textbf{v}$, find $\\cos{\\theta}$.<br> \n",
    "   Solution:\n",
    "    - $\\cos{\\theta} = \\frac{u \\cdotp v}{||u|| \\ ||v||}$\n",
    "    - $ = = \\frac{-6}{\\sqrt{90} \\ \\sqrt{95}}$<br>\n",
    "    <br>\n",
    "\n",
    "   f. If $\\alpha$ is the angle between $\\textbf{v}$  and   $\\textbf{w}$, find $\\cos{\\alpha}$.<br>\n",
    "   Solution:\n",
    "    - $\\cos{\\alpha} = \\frac{u \\cdotp v}{||u|| \\ ||v||}$\n",
    "    - $= = \\frac{5}{\\sqrt{95} \\ \\sqrt{14}}$<br>\n",
    "    <br>\n",
    "    \n",
    "    g. If $\\beta$ is the angle between $\\textbf{u}$  and   $\\textbf{w}$, find $\\cos{\\beta}$.<br>\n",
    "    Solution:\n",
    "    - $\\cos{\\beta} = \\frac{u \\cdotp w}{||u|| \\ ||w||}$\n",
    "    - $ = = \\frac{-13}{\\sqrt{90} \\ \\sqrt{14}}$<br>\n",
    "    <br>\n",
    "    \n",
    "    h. Find $d(\\textbf{u},\\textbf{v})$.<br>\n",
    "    $d(u,v) = ||u-v|| = \\sqrt{(2-5)^2 + (-5-(-2))^2 + (4-1)^2 + (6-(-7))^2 + (-3-(-4))^2} = \\sqrt{9+9+9+169+1} = \\sqrt{197}$\n",
    "   <br>\n",
    "\n",
    "    i. Find $d(\\textbf{w},\\textbf{v})$.<br>\n",
    "    $d(w,v) = ||w-v|| = \\sqrt{(2-5)^2 + (1-(-2))^2 + (-3-1)^2 + (0-(-7))^2 + (0-(-4))^2} = \\sqrt{9+9+16+49+16} = \\sqrt{99}$\n",
    "   <br>\n",
    "\n",
    "    j. Find $d(\\textbf{u},\\textbf{w})$. <br>\n",
    "    $d(u,w) = ||u-w|| = \\sqrt{(2-2)^2 + (-5-1)^2 + (4-(-3))^2 + (6-0)^2 + (-3-0)^2} = \\sqrt{0+36+49+36+9} = \\sqrt{130}$\n",
    "   <br>\n",
    "\n",
    "    k. Find $proj(\\textbf{u},\\textbf{v})$.<br>\n",
    "    $proj(u,v) = \\frac{u \\cdotp v}{||v||^2}v = \\frac{-6}{(\\sqrt{95})^2}(5,-2,1,-7,-4) = (\\frac{-30}{95},\\frac{12}{95},\\frac{-6}{95},\\frac{42}{95},\\frac{24}{95}) $<br>\n",
    "\n",
    "    l. Find $proj(\\textbf{w},\\textbf{v})$.<br>\n",
    "    $proj(w,v) = \\frac{w \\cdotp v}{||v||^2}v = \\frac{5}{(\\sqrt{95})^2}(5,-2,1,-7,-4) = (\\frac{5}{19},\\frac{-2}{19},\\frac{1}{19},\\frac{-7}{19},\\frac{-4}{19}) $<br>\n",
    "\n",
    "    m. Find $proj(\\textbf{u},\\textbf{w})$.<br>\n",
    "    $proj(u,w) = \\frac{u \\cdotp w}{||w||^2}v = \\frac{-13}{(\\sqrt{14})^2}(2,1,-3) = (\\frac{-26}{14},\\frac{-13}{14},\\frac{39}{14}) $<br>\n",
    "    \n",
    "   "
   ]
  },
  {
   "cell_type": "markdown",
   "id": "cbbceb5c-e9fb-4b68-a308-b7162e0b3190",
   "metadata": {},
   "source": [
    "#### Pythonic Solution to 3.a"
   ]
  },
  {
   "cell_type": "code",
   "execution_count": 89,
   "id": "167a96e1-a488-46d5-9f73-b7ba0a32c996",
   "metadata": {},
   "outputs": [
    {
     "name": "stdout",
     "output_type": "stream",
     "text": [
      "[ -7 -14  13  45   0]\n"
     ]
    }
   ],
   "source": [
    "import numpy as np\n",
    "u = np.array([2, -5, 4, 6, -3])\n",
    "v = np.array([5, -2, 1, -7, -4])\n",
    "\n",
    "print((4*u) - (3*v))"
   ]
  },
  {
   "cell_type": "markdown",
   "id": "f2e1cddf-30f4-4aa2-ba08-faa6a099a80a",
   "metadata": {},
   "source": [
    "##### Pythonic Solution to 3.b"
   ]
  },
  {
   "cell_type": "code",
   "execution_count": 90,
   "id": "522351b6-c158-4fe9-a0f5-05d1f5524395",
   "metadata": {},
   "outputs": [
    {
     "name": "stdout",
     "output_type": "stream",
     "text": [
      "[ 16 -31  28  16 -23]\n"
     ]
    }
   ],
   "source": [
    "import numpy as np\n",
    "u = np.array([2, -5, 4, 6, -3])\n",
    "v = np.array([5, -2, 1, -7, -4])\n",
    "w = np.array([2, 1, -3, 0, 0])\n",
    "\n",
    "print((5*u) + (2*v) - (2*w))"
   ]
  },
  {
   "cell_type": "markdown",
   "id": "78d30ef3-123b-452e-9b02-c9cc8e6a763b",
   "metadata": {},
   "source": [
    "##### Pythonic Solution to 3.c"
   ]
  },
  {
   "cell_type": "code",
   "execution_count": 91,
   "id": "5a516a7d-975d-4641-a975-0ce9e1c34c09",
   "metadata": {},
   "outputs": [
    {
     "name": "stdout",
     "output_type": "stream",
     "text": [
      "u.v =  -6\n",
      "v.w =  5\n",
      "u.w =  -13\n"
     ]
    }
   ],
   "source": [
    "import numpy as np\n",
    "u = np.array([2, -5, 4, 6, -3])\n",
    "v = np.array([5, -2, 1, -7, -4])\n",
    "w = np.array([2, 1, -3,0, 0])\n",
    "\n",
    "print(\"u.v = \", u.dot(v))\n",
    "print(\"v.w = \", v.dot(w))\n",
    "print(\"u.w = \", u.dot(w))"
   ]
  },
  {
   "cell_type": "markdown",
   "id": "6e2c3d39-d235-4ba7-a41e-179b1f414487",
   "metadata": {},
   "source": [
    "##### Pythonic Solution to 3.d"
   ]
  },
  {
   "cell_type": "code",
   "execution_count": 92,
   "id": "636ce849-20ce-4e37-a61d-82d88645c677",
   "metadata": {},
   "outputs": [
    {
     "name": "stdout",
     "output_type": "stream",
     "text": [
      "||u||:  9.486832980505138\n",
      "sqrt(90):  9.486832980505138\n",
      "||v||:  9.746794344808963\n",
      "sqrt(95):  9.746794344808963\n",
      "||w||:  3.7416573867739413\n",
      "sqrt(14):  3.7416573867739413\n"
     ]
    }
   ],
   "source": [
    "import numpy as np\n",
    "from numpy.linalg import norm\n",
    "u = np.array([2, -5, 4, 6, -3])\n",
    "v = np.array([5, -2, 1, -7, -4])\n",
    "w = np.array([2, 1, -3])\n",
    "\n",
    "\n",
    "print('||u||: ', np.sqrt(u.dot(u)))\n",
    "print('sqrt(90): ', np.sqrt(90))\n",
    "\n",
    "print('||v||: ', np.sqrt(v.dot(v)))\n",
    "print('sqrt(95): ', np.sqrt(95))\n",
    "\n",
    "print('||w||: ', np.sqrt(w.dot(w)))\n",
    "print('sqrt(14): ', np.sqrt(14))"
   ]
  },
  {
   "cell_type": "markdown",
   "id": "55cfa125-ac21-464a-bbdc-9e97e62b3362",
   "metadata": {},
   "source": [
    "##### Pythonic Solution to 3.e"
   ]
  },
  {
   "cell_type": "code",
   "execution_count": 93,
   "id": "3de86398-1a9b-4925-a919-d95f7146a666",
   "metadata": {},
   "outputs": [
    {
     "name": "stdout",
     "output_type": "stream",
     "text": [
      "angle:  -0.06488856845230502\n",
      "angle:  -0.06488856845230502\n"
     ]
    }
   ],
   "source": [
    "import numpy as np\n",
    "from numpy.linalg import norm\n",
    "u = np.array([2, -5, 4, 6, -3])\n",
    "v = np.array([5, -2, 1, -7, -4])\n",
    "\n",
    "print('angle: ', np.dot(u,v)/(np.linalg.norm(u)*np.linalg.norm(v)))\n",
    "print(\"angle: \",-6/(np.sqrt(90)*np.sqrt(95)))"
   ]
  },
  {
   "cell_type": "markdown",
   "id": "7f04c07d-2832-4a54-91b1-a8a2ea42b3d1",
   "metadata": {},
   "source": [
    "##### Pythonic Solution to 3.f"
   ]
  },
  {
   "cell_type": "code",
   "execution_count": 94,
   "id": "3ee81831-1e7d-4501-918a-5108b24bb7e3",
   "metadata": {},
   "outputs": [
    {
     "name": "stdout",
     "output_type": "stream",
     "text": [
      "angle:  0.13710212427677046\n",
      "angle:  0.13710212427677046\n"
     ]
    }
   ],
   "source": [
    "import numpy as np\n",
    "from numpy.linalg import norm\n",
    "v = np.array([5, -2, 1, -7, -4])\n",
    "w = np.array([2, 1, -3, 0, 0])\n",
    "\n",
    "print('angle: ', np.dot(v,w)/(np.linalg.norm(v)*np.linalg.norm(w)))\n",
    "print(\"angle: \", 5/(np.sqrt(95)*np.sqrt(14)))"
   ]
  },
  {
   "cell_type": "markdown",
   "id": "6c909924-87e4-448c-823d-12f7b359a91b",
   "metadata": {},
   "source": [
    "##### Pythonic Solution to 3.g"
   ]
  },
  {
   "cell_type": "code",
   "execution_count": 95,
   "id": "d3dff1b5-999c-47f8-bc4d-529bc0a9b017",
   "metadata": {},
   "outputs": [
    {
     "name": "stdout",
     "output_type": "stream",
     "text": [
      "angle:  -0.3662335103823572\n",
      "angle:  -0.3662335103823572\n"
     ]
    }
   ],
   "source": [
    "import numpy as np\n",
    "from numpy.linalg import norm\n",
    "u = np.array([2, -5, 4, 6, -3])\n",
    "w = np.array([2, 1, -3, 0, 0])\n",
    "\n",
    "print('angle: ', np.dot(u,w)/(np.linalg.norm(u)*np.linalg.norm(w)))\n",
    "print(\"angle: \", -13/(np.sqrt(90)*np.sqrt(14)))"
   ]
  },
  {
   "cell_type": "markdown",
   "id": "41b8d342-593d-4d55-94d1-b07da12cb304",
   "metadata": {},
   "source": [
    "##### Pythonic Solution to 3.h"
   ]
  },
  {
   "cell_type": "code",
   "execution_count": 96,
   "id": "139d8d1a-281a-4f58-9c2d-9c72d7b3840c",
   "metadata": {},
   "outputs": [
    {
     "name": "stdout",
     "output_type": "stream",
     "text": [
      "d(u,v):  14.035668847618199\n"
     ]
    }
   ],
   "source": [
    "import numpy as np\n",
    "from numpy.linalg import norm\n",
    "u = np.array([2, -5, 4, 6, -3])\n",
    "v = np.array([5, -2, 1, -7, -4])\n",
    "\n",
    "print('d(u,v): ', np.linalg.norm(u - v))"
   ]
  },
  {
   "cell_type": "markdown",
   "id": "0f8d9c88-6718-4693-b941-32b6916b256d",
   "metadata": {},
   "source": [
    "##### Pythonic Solution to 3.i"
   ]
  },
  {
   "cell_type": "code",
   "execution_count": 97,
   "id": "f0394beb-2f39-4759-a329-4b4521675fe4",
   "metadata": {},
   "outputs": [
    {
     "name": "stdout",
     "output_type": "stream",
     "text": [
      "d(w,v):  9.9498743710662\n"
     ]
    }
   ],
   "source": [
    "import numpy as np\n",
    "from numpy.linalg import norm\n",
    "v = np.array([5, -2, 1, -7, -4])\n",
    "w = np.array([2, 1, -3, 0, 0])\n",
    "\n",
    "print('d(w,v): ', np.linalg.norm(w - v))"
   ]
  },
  {
   "cell_type": "markdown",
   "id": "65e03fcc-30f2-4254-bf94-3717af06d89e",
   "metadata": {},
   "source": [
    "##### Pythonic Solution to 3.j"
   ]
  },
  {
   "cell_type": "code",
   "execution_count": 98,
   "id": "be6947bb-aa7b-4795-be8f-07e8d857ed7a",
   "metadata": {},
   "outputs": [
    {
     "name": "stdout",
     "output_type": "stream",
     "text": [
      "d(u,w):  11.40175425099138\n"
     ]
    }
   ],
   "source": [
    "import numpy as np\n",
    "from numpy.linalg import norm\n",
    "u = np.array([2, -5, 4, 6, -3])\n",
    "w = np.array([2, 1, -3, 0, 0])\n",
    "\n",
    "print('d(u,w): ', np.linalg.norm(u - w))"
   ]
  },
  {
   "cell_type": "markdown",
   "id": "d5a6a374-293c-4d8f-84d0-4a04a8ed08d4",
   "metadata": {},
   "source": [
    "##### Pythonic Solution to 3.k"
   ]
  },
  {
   "cell_type": "code",
   "execution_count": 99,
   "id": "64e96008-523f-4074-bf5d-169191a87612",
   "metadata": {},
   "outputs": [
    {
     "name": "stdout",
     "output_type": "stream",
     "text": [
      "proj(u,v):  [-0.31578947  0.12631579 -0.06315789  0.44210526  0.25263158]\n",
      "proj(u,v):  [0.3157894736842105, 0.12631578947368421, -0.06315789473684211, 0.4421052631578947, 0.25263157894736843]\n"
     ]
    }
   ],
   "source": [
    "import numpy as np\n",
    "from numpy.linalg import norm\n",
    "u = np.array([2, -5, 4, 6, -3])\n",
    "v = np.array([5, -2, 1, -7, -4])\n",
    "\n",
    "print(\"proj(u,v): \",u.dot(v)*v/(np.linalg.norm(v)**2) )\n",
    "print(\"proj(u,v): \",[30/95,12/95,-6/95,42/95,24/95])"
   ]
  },
  {
   "cell_type": "markdown",
   "id": "0fb2df20-f672-4b5c-89d4-983ab5e694bf",
   "metadata": {},
   "source": [
    "##### Pythonic Solution to 3.l"
   ]
  },
  {
   "cell_type": "code",
   "execution_count": 100,
   "id": "6a22261b-198b-4fb4-a2c2-6d071697a855",
   "metadata": {},
   "outputs": [
    {
     "name": "stdout",
     "output_type": "stream",
     "text": [
      "proj(w,v):  [ 0.26315789 -0.10526316  0.05263158 -0.36842105 -0.21052632]\n",
      "proj(w,v):  [0.2631578947368421, -0.10526315789473684, 0.05263157894736842, -0.3684210526315789, -0.21052631578947367]\n"
     ]
    }
   ],
   "source": [
    "import numpy as np\n",
    "from numpy.linalg import norm\n",
    "v = np.array([5, -2, 1, -7, -4])\n",
    "w = np.array([2, 1, -3, 0, 0])\n",
    "\n",
    "print(\"proj(w,v): \",w.dot(v)*v/(np.linalg.norm(v)**2) )\n",
    "print(\"proj(w,v): \",[5/19,-2/19,1/19,-7/19,-4/19])"
   ]
  },
  {
   "cell_type": "markdown",
   "id": "d5e89b42-e46e-47c8-b104-0d4e5ae28b66",
   "metadata": {},
   "source": [
    "##### Pythonic Solution to 3.m"
   ]
  },
  {
   "cell_type": "code",
   "execution_count": 101,
   "id": "2760a9f3-1b69-45a5-a49d-b4f3f4ab9012",
   "metadata": {},
   "outputs": [
    {
     "name": "stdout",
     "output_type": "stream",
     "text": [
      "proj(w,v):  [-1.85714286 -0.92857143  2.78571429  0.          0.        ]\n",
      "proj(w,v):  [-1.8571428571428572, -0.9285714285714286, 2.7857142857142856]\n"
     ]
    }
   ],
   "source": [
    "import numpy as np\n",
    "from numpy.linalg import norm\n",
    "u = np.array([2, -5, 4, 6, -3])\n",
    "w = np.array([2, 1, -3, 0, 0])\n",
    "\n",
    "print(\"proj(w,v): \",u.dot(w)*w/(np.linalg.norm(w)**2) )\n",
    "print(\"proj(w,v): \",[-26/14,-13/14,39/14])"
   ]
  },
  {
   "cell_type": "markdown",
   "id": "964bf9cc-2e78-40a6-ac98-9f8b715a7373",
   "metadata": {},
   "source": [
    "4. Normalize each vector:<br>\n",
    "$\\textbf{u'} = \\frac{1}{||\\textbf{u}||} \\textbf{u} = \\frac{\\textbf{u}}{|| \\textbf{u} ||}$<br><br>\n",
    "a. $\\textbf{u}$ = (5,-7).<br>\n",
    "    ||$\\textbf{u}$|| = $\\sqrt{\\textbf{u} \\cdotp \\textbf{u}} = \\sqrt{(5)(5) + (-7)(-7)} = \\sqrt{74}$<br>\n",
    "    $\\textbf{u'} = \\frac{\\textbf{u}}{||\\textbf{u}||} = (\\frac{5}{\\sqrt{74}},\\frac{7}{\\sqrt{74}})$<br>\n",
    "   \n",
    "b. $\\textbf{v}$ = (1,2,-2,4).<br>\n",
    "||$\\textbf{u}$|| = $\\sqrt{\\textbf{u} \\cdotp \\textbf{u}} = \\sqrt{(1)(1) + (2)(2) + (-2)(-2) + (4)(4)} = 5$<br>\n",
    "    $\\textbf{u'} = \\frac{\\textbf{u}}{||\\textbf{u}||} = (\\frac{1}{5},\\frac{2}{5},\\frac{-2}{5},\\frac{4}{5})$<br>\n",
    "\n",
    "c. $\\textbf{w} = (\\frac{1}{2},\\frac{-1}{3},\\frac{3}{4})$.<br>\n",
    "||$\\textbf{u}$|| = $\\sqrt{\\textbf{u} \\cdotp \\textbf{u}} = \\sqrt{(\\frac{1}{2})(\\frac{1}{2}) + (\\frac{-1}{3})(\\frac{-1}{3}) + (\\frac{3}{4})(\\frac{3}{4})} = \\frac{\\sqrt{101}}{12}$<br>\n"
   ]
  },
  {
   "cell_type": "markdown",
   "id": "82d81434-7706-4c47-8673-af9341712888",
   "metadata": {},
   "source": [
    "##### Pythonic Solution to 4.a"
   ]
  },
  {
   "cell_type": "code",
   "execution_count": 103,
   "id": "c1873a8c-3730-4dea-ba7f-4340e3fc73b4",
   "metadata": {},
   "outputs": [
    {
     "name": "stdout",
     "output_type": "stream",
     "text": [
      "u':  [ 0.58123819 -0.81373347]\n"
     ]
    }
   ],
   "source": [
    "import numpy as np\n",
    "from numpy.linalg import norm\n",
    "\n",
    "u = np.array([5, -7])\n",
    "print(\"u': \", u/np.sqrt(u.dot(u)))"
   ]
  },
  {
   "cell_type": "markdown",
   "id": "53c220ff-2120-453f-8305-b233a1849528",
   "metadata": {},
   "source": [
    "##### Pythonic Solution to 4.b"
   ]
  },
  {
   "cell_type": "code",
   "execution_count": 104,
   "id": "e77b82ea-c449-4652-80a4-ce686345ffb1",
   "metadata": {},
   "outputs": [
    {
     "name": "stdout",
     "output_type": "stream",
     "text": [
      "v':  [ 0.2  0.4 -0.4  0.8]\n"
     ]
    }
   ],
   "source": [
    "import numpy as np\n",
    "from numpy.linalg import norm\n",
    "v = np.array([1, 2, -2, 4])\n",
    "print(\"v': \", v/np.sqrt(v.dot(v)))"
   ]
  },
  {
   "cell_type": "markdown",
   "id": "70b6eb92-76d8-4e5f-b984-64d1c88ebcf8",
   "metadata": {},
   "source": [
    "##### Pythonic Solution to 4.c"
   ]
  },
  {
   "cell_type": "code",
   "execution_count": 105,
   "id": "238dfdc9-0ec3-462f-ae13-bd19990a0fc1",
   "metadata": {},
   "outputs": [
    {
     "name": "stdout",
     "output_type": "stream",
     "text": [
      "w':  0.961046882889233\n",
      "w':  0.961046882889233\n"
     ]
    }
   ],
   "source": [
    "import numpy as np\n",
    "from numpy.linalg import norm\n",
    "w = np.array([1/2, -1/3, 3/4])\n",
    "print(\"w': \", np.linalg.norm(w))\n",
    "print(\"w': \", np.sqrt(133/144))"
   ]
  },
  {
   "cell_type": "markdown",
   "id": "8d70d7a1-051e-4c0d-87d0-02ccf10749f1",
   "metadata": {},
   "source": [
    "5. Let $\\textbf{u} = (1,2,-2)$,$\\textbf{v} = (3,-12,4)$ and a scalar $k = -3$: <br>\n",
    "Find $||u||, ||v||, ||u+v||, ||ku||$.<br>\n",
    "<br>\n",
    "$||u|| = \\sqrt{u \\cdotp u} =\\sqrt{1(1) + (2)(2) + (-2)(-2)}=\\sqrt{1 + 4 + 4} = \\sqrt{9} = 3$<br>\n",
    "$||v|| = \\sqrt{v \\cdotp v} =\\sqrt{3(3) + (-12)(-12) + (4)(4)}=\\sqrt{9 + 144 + 16} = \\sqrt{169} = 13$<br>\n",
    "$||u+v|| = \\sqrt{(1+3)^2 + (2+(-12))^2 + ((-2)+4)^2} = \\sqrt{16 + 100 + 4} = \\sqrt{120}$<br>\n",
    "$||ku|| = \\sqrt{((-3)(1))^2 + ((-3)(2))^2 + ((-3)(-2))^2} = \\sqrt{9 + 36 + 36} = \\sqrt{81} = 9$<br>\n"
   ]
  },
  {
   "cell_type": "markdown",
   "id": "fa3e1b4a-8635-4922-89e4-4e238d9e2f51",
   "metadata": {},
   "source": [
    "##### Pythonic solution for 5\n",
    "$ ||u|| $"
   ]
  },
  {
   "cell_type": "code",
   "execution_count": 4,
   "id": "2cfa850b-878a-40a8-baff-8b0b9306d6e8",
   "metadata": {},
   "outputs": [
    {
     "name": "stdout",
     "output_type": "stream",
     "text": [
      "||u||:  3.0\n"
     ]
    }
   ],
   "source": [
    "import numpy as np\n",
    "from numpy.linalg import norm\n",
    "u = np.array([1, 2, -2])\n",
    "v = np.array([3, -12, 4])\n",
    "k = -3\n",
    "\n",
    "print(\"||u||: \", np.linalg.norm(u))"
   ]
  },
  {
   "cell_type": "markdown",
   "id": "4d1fc59d-4b60-43d1-a76f-734e1e27cae2",
   "metadata": {},
   "source": [
    "##### Pythonic solution for 5\n",
    "$ ||v|| $"
   ]
  },
  {
   "cell_type": "code",
   "execution_count": 9,
   "id": "ae76120f-00d9-438a-a52c-beadb593774c",
   "metadata": {},
   "outputs": [
    {
     "name": "stdout",
     "output_type": "stream",
     "text": [
      "||v||:  13.0\n"
     ]
    }
   ],
   "source": [
    "import numpy as np\n",
    "from numpy.linalg import norm\n",
    "v = np.array([3, -12, 4])\n",
    "\n",
    "print(\"||v||: \", np.linalg.norm(v))"
   ]
  },
  {
   "cell_type": "markdown",
   "id": "37770bb9-8765-4396-99ab-b75a414b1aa4",
   "metadata": {},
   "source": [
    "##### Pythonic solution for 5\n",
    "$ ||u+v|| $"
   ]
  },
  {
   "cell_type": "code",
   "execution_count": 8,
   "id": "a4d769cf-520d-41c0-b584-636835f8fca1",
   "metadata": {},
   "outputs": [
    {
     "name": "stdout",
     "output_type": "stream",
     "text": [
      "||u+v||:  10.954451150103322\n",
      "sqrt(120):  10.954451150103322\n"
     ]
    }
   ],
   "source": [
    "import numpy as np\n",
    "from numpy.linalg import norm\n",
    "u = np.array([1, 2, -2])\n",
    "v = np.array([3, -12, 4])\n",
    "\n",
    "print(\"||u+v||: \", np.linalg.norm(u+v))\n",
    "print(\"sqrt(120): \", np.sqrt(120))"
   ]
  },
  {
   "cell_type": "markdown",
   "id": "be64b4ea-3065-41cf-bb37-fbeb7b0bc69c",
   "metadata": {},
   "source": [
    "##### Pythonic solution for 5\n",
    "$ ||ku|| $"
   ]
  },
  {
   "cell_type": "code",
   "execution_count": 10,
   "id": "bbaba397-c806-4d3b-bae5-b2371f736eaf",
   "metadata": {},
   "outputs": [
    {
     "name": "stdout",
     "output_type": "stream",
     "text": [
      "||ku||:  9.0\n"
     ]
    }
   ],
   "source": [
    "import numpy as np\n",
    "from numpy.linalg import norm\n",
    "u = np.array([1, 2, -2])\n",
    "k = -3\n",
    "\n",
    "print(\"||ku||: \", np.linalg.norm(k*u))"
   ]
  },
  {
   "cell_type": "markdown",
   "id": "a8b851e6-5cc7-4761-b26c-19e819eec34d",
   "metadata": {},
   "source": [
    "6. Find k so that $\\textbf{u}  \\ and \\  \\textbf{v}$ are orthogonal.\n",
    "a. $\\textbf{u} = (3, k, -2), \\textbf{v} = (6, -4, -3)$.<br>\n",
    "\n",
    "$0 = u(v) = u_1(v_1)+u_2(v_2)+u_3(v_3)$<br>\n",
    "$0 = 3(6)+ k(-4) + -2(-3) = 18 -4k + 6$<br>\n",
    "$4k = 18 + 6$ <br>\n",
    "$k = \\frac{24}{4}$ <br>\n",
    "$k = 6$\n",
    "\n",
    "<br>\n",
    "b. $\\textbf{u} = (5,k,-4,2), \\textbf{v} = (1,-3,2,2k)$.<br>\n",
    "\n",
    "$0 = u(v) = u_1(v_1)+u_2(v_2)+u_3(v_3)$<br>\n",
    "$0 = 5(1)+ k(-3) + -4(2) + 2(2k)= 5 + (-3k) + (-8) + 4k$<br>\n",
    "$4k - 3k = 8 - 5$ <br>\n",
    "$k = 3$ <br>\n",
    "\n",
    "c. $\\textbf{u} = (1,7,k+2,-2), \\textbf{v} = (3, k, -3,k)$.<br>\n",
    "\n",
    "$0 = u(v) = u_1(v_1)+u_2(v_2)+u_3(v_3)$<br>\n",
    "$0 = 1(3)+ 7(k) + k+2(-3) + -2(k)= 3 + 7k - 3k - 6 -2k$<br>\n",
    "$7k - 3k - 2k = 6 - 3$ <br>\n",
    "$2k = 3$ <br>\n",
    "$k = \\frac{3}{2} = 1.5$"
   ]
  },
  {
   "cell_type": "markdown",
   "id": "6dd31793-9292-4525-b953-23ca791cbee3",
   "metadata": {},
   "source": [
    "##### Pythonic solution for 6.a"
   ]
  },
  {
   "cell_type": "code",
   "execution_count": 15,
   "id": "51c4604d-6ba4-44d7-9bdf-f90dc84cef88",
   "metadata": {},
   "outputs": [
    {
     "name": "stdout",
     "output_type": "stream",
     "text": [
      "u*v:  0\n"
     ]
    }
   ],
   "source": [
    "import numpy as np\n",
    "from numpy.linalg import norm\n",
    "k = 6\n",
    "u = np.array([3, k, -2])\n",
    "v = np.array([6, -4, -3])\n",
    "\n",
    "print(\"u*v: \", u.dot(v))"
   ]
  },
  {
   "cell_type": "markdown",
   "id": "d5cd4f0d-2d51-4c6a-b42b-45ba5e2a7d4c",
   "metadata": {},
   "source": [
    "##### Pythonic solution for 6.b"
   ]
  },
  {
   "cell_type": "code",
   "execution_count": 16,
   "id": "57b80530-324e-4d14-bf1f-ff63453bc2d4",
   "metadata": {},
   "outputs": [
    {
     "name": "stdout",
     "output_type": "stream",
     "text": [
      "u*v:  0\n"
     ]
    }
   ],
   "source": [
    "import numpy as np\n",
    "from numpy.linalg import norm\n",
    "k = 3\n",
    "u = np.array([5, k, -4, 2])\n",
    "v = np.array([1, -3, 2, 2*k])\n",
    "\n",
    "print(\"u*v: \", u.dot(v))"
   ]
  },
  {
   "cell_type": "markdown",
   "id": "7a9f4031-e41f-4e44-ad02-1730ba6dd063",
   "metadata": {},
   "source": [
    "##### Pythonic solution for 6.c"
   ]
  },
  {
   "cell_type": "code",
   "execution_count": 22,
   "id": "eaba1a65-efc4-4530-8d44-77064b3ce1af",
   "metadata": {},
   "outputs": [
    {
     "name": "stdout",
     "output_type": "stream",
     "text": [
      "u*v:  0.0\n"
     ]
    }
   ],
   "source": [
    "import numpy as np\n",
    "from numpy.linalg import norm\n",
    "k = 1.5\n",
    "u = np.array([1, 7, k+2, -2])\n",
    "v = np.array([3, k, -3, k])\n",
    "\n",
    "print(\"u*v: \", u.dot(v))"
   ]
  }
 ],
 "metadata": {
  "kernelspec": {
   "display_name": "Python 3 (ipykernel)",
   "language": "python",
   "name": "python3"
  },
  "language_info": {
   "codemirror_mode": {
    "name": "ipython",
    "version": 3
   },
   "file_extension": ".py",
   "mimetype": "text/x-python",
   "name": "python",
   "nbconvert_exporter": "python",
   "pygments_lexer": "ipython3",
   "version": "3.11.3"
  }
 },
 "nbformat": 4,
 "nbformat_minor": 5
}
