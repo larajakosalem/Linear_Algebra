{
 "cells": [
  {
   "cell_type": "markdown",
   "id": "081d52a2-8b39-4161-9e79-2e606dadba50",
   "metadata": {},
   "source": [
    "Linear Transformation Assignment\n",
    "<br />\n",
    "Lara R. Jakosalem\n",
    "<br />\n",
    "\n",
    "---"
   ]
  },
  {
   "cell_type": "markdown",
   "id": "e8fa3599-3bf2-4a21-84ec-9a8cfffd71cd",
   "metadata": {},
   "source": [
    "$\\textbf{Code Challenges}$\n",
    "\n",
    "1. Develop a python function from scratch that will find the determinants of any $n \\times n$ matrix.\n",
    "\n",
    "2. Develop a python function from scratch that will find both the eigenvectors and eigenvalues of any $n \\times n$ matrix.\n",
    "\n",
    "3. Test your functions from a randomly generated $n \\times n$ matrix."
   ]
  },
  {
   "cell_type": "markdown",
   "id": "5d828d36-6a18-4fe6-8565-635fa190545e",
   "metadata": {},
   "source": [
    "**NUMBER 1**"
   ]
  },
  {
   "cell_type": "code",
   "execution_count": 58,
   "id": "6fb923a4-f258-4857-a597-790a759ade60",
   "metadata": {},
   "outputs": [],
   "source": [
    "def get_determinant(m):\n",
    "    if len(m) == 0 or len(m) != len(m[0]):\n",
    "        raise ValueError(\"Invalid. Matrix must be square.\")\n",
    "    n = len(m)\n",
    "    if n == 1:\n",
    "        return m[0][0]\n",
    "    det = 0\n",
    "    for col in range(n):\n",
    "        sub_matrix = [row[:col] + row[col+1:] for row in m[1:]]\n",
    "        sub_det = get_determinant(sub_matrix)\n",
    "        sign = (-1) ** col\n",
    "        det += m[0][col] * sub_det * sign\n",
    "    pass\n",
    "    return det"
   ]
  },
  {
   "cell_type": "markdown",
   "id": "ba4373e3-5e9a-4ee3-a5fe-ef6631130058",
   "metadata": {},
   "source": [
    "Note: Only using numpy for the test case, no libraries were used in the function"
   ]
  },
  {
   "cell_type": "code",
   "execution_count": 59,
   "id": "d6512dba-5f7f-4c2b-b152-c8173db3a199",
   "metadata": {},
   "outputs": [
    {
     "name": "stdout",
     "output_type": "stream",
     "text": [
      "Randomly generated matrix:\n",
      "[[ -9  -2  -6   2]\n",
      " [ -1  -5 -10  -7]\n",
      " [ -1  -4  -9  -7]\n",
      " [  3   8   1  -5]]\n",
      "Determinant: -364\n"
     ]
    }
   ],
   "source": [
    "import numpy as np\n",
    "import random\n",
    "\n",
    "n = random.randint(1, 6)\n",
    "random_matrix = np.random.randint(-10, 11, size=(n, n)).tolist()\n",
    "\n",
    "determinant = get_determinant(random_matrix)\n",
    "\n",
    "print(\"Randomly generated matrix:\")\n",
    "print(np.array(random_matrix)) \n",
    "print(\"Determinant:\", determinant)"
   ]
  },
  {
   "cell_type": "markdown",
   "id": "ad266b89-1fb8-4c6b-ac86-ad22b1eefaaf",
   "metadata": {},
   "source": [
    "**NUMBER 2**"
   ]
  },
  {
   "cell_type": "code",
   "execution_count": 68,
   "id": "ac36b19f-225d-487a-abca-31b67a520bed",
   "metadata": {},
   "outputs": [],
   "source": [
    "def get_eigenvaluesvectors(m, iterations=100, tolerance=1e-10):\n",
    "    n = len(m)\n",
    "    eigenvalues = []\n",
    "    eigenvectors = []\n",
    "\n",
    "    def matrix_multiplication(m, v):\n",
    "        n = len(m)\n",
    "        result = [0] * n\n",
    "        for i in range(n):\n",
    "            for j in range(n):\n",
    "                result[i] += m[i][j] * v[j]\n",
    "        return result\n",
    "\n",
    "    def dot_product(v1, v2):\n",
    "        return sum(a * b for a, b in zip(v1, v2))\n",
    "\n",
    "    def normalize_vector(v):\n",
    "        norm = sum(x**2 for x in v)**0.5\n",
    "        return [x / norm for x in v]\n",
    "        \n",
    "    initial_vector = [1] * n\n",
    "    for _ in range(iterations):\n",
    "        new_vector = matrix_multiplication(m, initial_vector)\n",
    "        eigenvalue = dot_product(new_vector, initial_vector)\n",
    "        new_vector = normalize_vector(new_vector)\n",
    "        norm_difference = sum((x - y) ** 2 for x, y in zip(new_vector, initial_vector)) ** 0.5\n",
    "        if norm_difference < tolerance:\n",
    "            break      \n",
    "        initial_vector = new_vector\n",
    "    eigenvalues.append(eigenvalue)\n",
    "    eigenvectors.append(new_vector)\n",
    "\n",
    "    return eigenvalues, eigenvectors"
   ]
  },
  {
   "cell_type": "code",
   "execution_count": 69,
   "id": "0872a075-6151-432e-aba4-7e4f3168bb14",
   "metadata": {},
   "outputs": [
    {
     "name": "stdout",
     "output_type": "stream",
     "text": [
      "Generated Matrix:\n",
      "[[5 9 3 9 3 6]\n",
      " [3 8 9 6 3 1]\n",
      " [4 8 3 7 7 3]\n",
      " [1 7 2 5 9 2]\n",
      " [9 3 2 6 8 3]\n",
      " [6 4 1 3 4 1]]\n",
      "Eigenvalues: [29.403604356229472]\n",
      "Eigenvectors: [[0.4680448729202483, 0.4285560912641462, 0.444491691796024, 0.36285132094850847, 0.43866822620378, 0.2749725726375733]]\n"
     ]
    }
   ],
   "source": [
    "import numpy as np\n",
    "\n",
    "def generate_random_matrix(n):\n",
    "    return np.random.randint(1, 10, size=(n, n))\n",
    "    \n",
    "n = np.random.randint(2, 7)\n",
    "new_matrix = generate_random_matrix(n)\n",
    "\n",
    "# Calculate eigenvalues and eigenvectors for the generated matrix\n",
    "eigenvalues, eigenvectors = get_eigenvaluesvectors(new_matrix)\n",
    "print(\"Generated Matrix:\")\n",
    "print(new_matrix)\n",
    "print(\"Eigenvalues:\", eigenvalues)\n",
    "print(\"Eigenvectors:\", eigenvectors)"
   ]
  },
  {
   "cell_type": "code",
   "execution_count": null,
   "id": "6aa54355-1b61-4756-80c8-d2f21189fdb7",
   "metadata": {},
   "outputs": [],
   "source": []
  }
 ],
 "metadata": {
  "kernelspec": {
   "display_name": "Python 3 (ipykernel)",
   "language": "python",
   "name": "python3"
  },
  "language_info": {
   "codemirror_mode": {
    "name": "ipython",
    "version": 3
   },
   "file_extension": ".py",
   "mimetype": "text/x-python",
   "name": "python",
   "nbconvert_exporter": "python",
   "pygments_lexer": "ipython3",
   "version": "3.11.3"
  }
 },
 "nbformat": 4,
 "nbformat_minor": 5
}
